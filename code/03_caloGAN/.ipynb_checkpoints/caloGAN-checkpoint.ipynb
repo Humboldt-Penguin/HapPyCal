{
 "cells": [
  {
   "cell_type": "markdown",
   "id": "c699cbb0-8055-4e75-8151-41a10fa6ad34",
   "metadata": {
    "tags": []
   },
   "source": [
    "# CaloGAN"
   ]
  },
  {
   "cell_type": "markdown",
   "id": "8aa00ba3-16fe-47f7-8358-39805671d40d",
   "metadata": {},
   "source": [
    "Generating calorimeter energy scans with dimensionality 8 voxels x 8 voxels x 2 channels (QDC and TDC) with a Generative Adversarial Network (GAN). "
   ]
  },
  {
   "cell_type": "markdown",
   "id": "8a3f24c3-984c-4d46-a0c9-a61e3b257ae1",
   "metadata": {
    "jp-MarkdownHeadingCollapsed": true,
    "tags": []
   },
   "source": [
    "# 0. Imports"
   ]
  },
  {
   "cell_type": "code",
   "execution_count": 7,
   "id": "ed6ce4ca-5ef9-4c39-8616-3172fc9e421f",
   "metadata": {},
   "outputs": [],
   "source": [
    "import numpy as np\n",
    "\n",
    "import matplotlib.pyplot as plt\n",
    "from matplotlib.colors import LogNorm\n",
    "\n",
    "import time\n",
    "import os"
   ]
  },
  {
   "cell_type": "markdown",
   "id": "d14535a4-1fdf-44bc-b504-9912680c1a9c",
   "metadata": {
    "tags": []
   },
   "source": [
    "---\n",
    "# 1. Setup"
   ]
  },
  {
   "cell_type": "markdown",
   "id": "3ddbcc16-47ef-4c68-a2ed-dfd169c96353",
   "metadata": {
    "jp-MarkdownHeadingCollapsed": true,
    "tags": []
   },
   "source": [
    "## 1.1. Load QDC and TDC from Text File"
   ]
  },
  {
   "cell_type": "markdown",
   "id": "0c529895-1e79-4014-9ed7-b9526667ebd8",
   "metadata": {},
   "source": [
    "Takes a formatted text file of calorimeter data and returns 3 data products:\n",
    "- `QDC`/`TDC`: An n x 8 x 8 array for QDC and TDC values, formatted `QDC[event_index][x_coord][y_coord]`\n",
    "- `ogEventNums`: An array where `ogEventNums[event_index]` contains the original event number in the uncut run\n",
    "    - This accomodates input files that already have some PID cuts applied causing event numbers to have gaps, such as filtering only for electron events"
   ]
  },
  {
   "cell_type": "code",
   "execution_count": 6,
   "id": "a28888bd-7aea-4482-871b-d0fffe171c9a",
   "metadata": {},
   "outputs": [],
   "source": [
    "def load_TQDC(finPath):\n",
    "    basePath = \"/media/sf_data/\"\n",
    "\n",
    "    # load data from file\n",
    "    fin = os.path.join(basePath, finPath)\n",
    "    t0 = time.time()\n",
    "    raw_data = np.loadtxt(fin, skiprows = 5)\n",
    "    t1 = time.time()\n",
    "    print(f\"Data file read in {t1-t0:.2f} seconds.\")\n",
    "    # return raw_data\n",
    "\n",
    "    \n",
    "    # initialize formatted data array\n",
    "    num_events = raw_data.shape[0]\n",
    "    print(f'There are {num_events} events')\n",
    "    TDC = np.zeros((num_events, 8, 8), dtype=float)\n",
    "    QDC = np.zeros((num_events, 8, 8), dtype=float)\n",
    "    ogEventNums = np.zeros((num_events), dtype=int)\n",
    "    \n",
    "    \n",
    "    # format data to [event#][x][y]\n",
    "    t0 = time.time()\n",
    "    i_event = -1\n",
    "\n",
    "    \n",
    "    for event in raw_data:\n",
    "        i_event += 1 \n",
    "        for x in range(8):\n",
    "            # # this method preserves the original event number, but doesn't work when events aren't one by one\n",
    "            # TDC [ np.int_(event[0]) ] [x] [:] = event[16*x+1 : 16*x+17 : 2]\n",
    "            # QDC [ np.int_(event[0]) ] [x] [:] = event[16*x+2 : 16*x+17 : 2]\n",
    "            \n",
    "            TDC [i_event] [x] [:] = event[16*x+1 : 16*x+17 : 2]\n",
    "            QDC [i_event] [x] [:] = event[16*x+2 : 16*x+17 : 2] \n",
    "            ogEventNums [i_event] = event[0]\n",
    "            \n",
    "    t1 = time.time()\n",
    "    print(f\"Data file formatted to array in {t1-t0:.2f} seconds.\")\n",
    "    \n",
    "    return TDC, QDC, ogEventNums"
   ]
  },
  {
   "cell_type": "code",
   "execution_count": 11,
   "id": "3824c0c2-02fe-472b-875a-dfc64e673c6a",
   "metadata": {},
   "outputs": [
    {
     "name": "stdout",
     "output_type": "stream",
     "text": [
      "Data file read in 29.69 seconds.\n",
      "There are 674056 events\n",
      "Data file formatted to array in 8.60 seconds.\n"
     ]
    }
   ],
   "source": [
    "base = r'C:\\Users\\zk117\\Documents\\00.local_WL-202\\MUSE\\data\\calorimeter\\elog_2341'\n",
    "\n",
    "# fin = \"run12130_calo_qdc_tdc_raw.txt\" # First 100,000 (out of 1 mil) events, completely raw and unfiltered \n",
    "fin = r'run12130_calo_qdc_tdc_cut.txt' # BH electron PID cut + beam monitor hit cut\n",
    "\n",
    "raw_data = load_TQDC(os.path.join(base, fin))"
   ]
  },
  {
   "cell_type": "markdown",
   "id": "9c44f2f3-fb12-400d-92de-8ebb08f03740",
   "metadata": {
    "jp-MarkdownHeadingCollapsed": true,
    "tags": []
   },
   "source": [
    "## 1.2. Event Display"
   ]
  },
  {
   "cell_type": "code",
   "execution_count": 13,
   "id": "c7eb17e6-425c-4ff4-9e64-06c3d581e280",
   "metadata": {},
   "outputs": [],
   "source": [
    "colormap = 'magma'\n",
    "\n",
    "def plotEvent(raw_data, event_num):\n",
    "    '''\n",
    "    Inputs: \n",
    "        `raw_data` \n",
    "            output of `load_TQDC`, containing [0]: TDC vals, [1]: QDC vals, and [2]: original event numbers before cut\n",
    "    Output:\n",
    "        Plots an 8x8 histogram for the event\n",
    "    '''\n",
    "    \n",
    "    TDC, QDC, ogEventNums = raw_data[:]\n",
    "    \n",
    "    ## 1. Plot Setup\n",
    "    fig, (QAx, TAx) = plt.subplots(nrows=1, ncols=2, figsize= (13,5))#(11,4))\n",
    "    plt.title(f'QDC for Event #{ogEventNums[event_num]}')\n",
    "\n",
    "    ## 2. Plot QDC\n",
    "    \n",
    "    ## 2.1. Configure scaling (plain values, log scale, etc)\n",
    "                                                                                        # Format log scale here\n",
    "    thisFrame = np.log(np.where(QDC[event_num] <= 0, 0.01, QDC[event_num]))\n",
    "    \n",
    "    ## 2.2. Set flexible* max value for colorbar (*if the max qdc of this event is greater than the preset value, then use the actual max qdc value)\n",
    "        # To cancel this effect, just set the preset value to be -1\n",
    "                                                                                        # Format flexible vmax here\n",
    "    presetMaxQDC = 8                                                                    \n",
    "    if np.amax(thisFrame) > presetMaxQDC:\n",
    "        this_vmax = np.amax(thisFrame)\n",
    "    else:\n",
    "        this_vmax = presetMaxQDC\n",
    "\n",
    "    ## 2.3. Plot everything\n",
    "    \n",
    "    QPlot = QAx.imshow(thisFrame.T, cmap=colormap, vmin=0, vmax=this_vmax) # make sure to transpose frame for imshow\n",
    "    \n",
    "    QAx.set_title(f'QDC for Event #{ogEventNums[event_num]}')\n",
    "    QAx.invert_yaxis()\n",
    "    QAx.set_xticks(np.arange(0,8))\n",
    "    Qcbar = plt.colorbar(QPlot, ax=QAx)\n",
    "    Qcbar.set_label(r'QDC Counts ($\\log_{10}$)', y=0.75)\n",
    "    QAx.set_xlabel('X-coordinate of Bar')\n",
    "    QAx.set_ylabel('Y-coordinate of Bar')\n",
    "    # cbar.ax.tick_params()\n",
    "   \n",
    "    ## 2.4. Show QDC values in each square\n",
    "    for x in range(8):\n",
    "        for y in range(8):\n",
    "            text = QAx.text(x, y, round(QDC[event_num][x][y],1), ha='center', va='center', color='w')\n",
    "    \n",
    "    ## 3. Plot TDC\n",
    "    \n",
    "    ## 3.1. Configure scaling (plain values, log scale, etc)\n",
    "                                                                                        # Format log scale here\n",
    "    thisFrame = np.log(np.where(TDC[event_num] <= 0, 0.01, TDC[event_num]))\n",
    "    \n",
    "    ## 3.2. Plot everything \n",
    "    \n",
    "    TPlot = TAx.imshow(thisFrame.T, cmap=colormap, vmin=0, vmax=4) # make sure to transpose frame for imshow\n",
    "    \n",
    "    TAx.set_title(f'TDC for Event #{ogEventNums[event_num]}')\n",
    "    TAx.invert_yaxis()\n",
    "    TAx.set_xticks(np.arange(0,8))\n",
    "    Tcbar = plt.colorbar(TPlot, ax=TAx)\n",
    "    Tcbar.set_label(r'TDC Counts ($\\log_{10}$)', y=0.75)\n",
    "    TAx.set_xlabel('X-coordinate of Bar')\n",
    "    TAx.set_ylabel('Y-coordinate of Bar')\n",
    "    \n",
    "    ## 3.3. Show TDC values in each square\n",
    "    for x in range(8):\n",
    "        for y in range(8):\n",
    "            if TDC[event_num][x][y] > 0.1:\n",
    "                text = TAx.text(x, y, round(TDC[event_num][x][y],1), ha='center', va='center', color='w')\n",
    "\n",
    "    \n",
    "    fig.tight_layout()\n",
    "    plt.show()\n",
    "    return"
   ]
  },
  {
   "cell_type": "code",
   "execution_count": null,
   "id": "3eb8bb0e-8f0c-42b1-8c38-69eedb54c9e5",
   "metadata": {},
   "outputs": [],
   "source": [
    "targets = [741822,5,7,22184,88965,1768,2935,3219,3944,4394,4548,7070]\n",
    "\n",
    "for target in targets:\n",
    "    event_num = np.where(raw_data[2]==target)[0][0]\n",
    "    plotEvent(raw_data, event_num)\n",
    "\n",
    "# for event_num in range(4000,5000,100):\n",
    "#     plotEvent(raw_data, event_num)M"
   ]
  },
  {
   "cell_type": "markdown",
   "id": "bf2af536-f763-4de3-a00d-0bd80949fac7",
   "metadata": {
    "tags": []
   },
   "source": [
    "Takes a formatted text file of calorimeter data and returns 3 data products:\n",
    "- `QDC`/`TDC`: An n x 8 x 8 array for QDC and TDC values, formatted `QDC[event_index][x_coord][y_coord]`\n",
    "- `ogEventNums`: An array where `ogEventNums[event_index]` contains the original event number in the uncut run\n",
    "    - This accomodates input files that already have some PID cuts applied causing event numbers to have gaps, such as filtering only for electron events## 2.1. Helper Functions"
   ]
  },
  {
   "cell_type": "markdown",
   "id": "df6e0c12-d59c-463f-b8e6-9259e9d1319a",
   "metadata": {},
   "source": [
    "---\n",
    "# 2. GAN"
   ]
  },
  {
   "cell_type": "code",
   "execution_count": 160,
   "id": "602ada2d-cac1-46d4-a059-31082851f4af",
   "metadata": {},
   "outputs": [
    {
     "data": {
      "text/plain": [
       "<torch._C.Generator at 0x1eac363baf0>"
      ]
     },
     "execution_count": 160,
     "metadata": {},
     "output_type": "execute_result"
    }
   ],
   "source": [
    "import torch\n",
    "from torch.utils.data import TensorDataset\n",
    "from torch.utils.data import DataLoader\n",
    "import torch.nn as nn\n",
    "\n",
    "torch.manual_seed(42)"
   ]
  },
  {
   "cell_type": "markdown",
   "id": "80f91fd1-b1a3-4bc7-a514-054922bf73c9",
   "metadata": {},
   "source": [
    "## Load Data on GPU"
   ]
  },
  {
   "cell_type": "code",
   "execution_count": 161,
   "id": "90962742-66dd-4f8f-8f1c-0cf4ea0c8294",
   "metadata": {},
   "outputs": [],
   "source": [
    "def get_default_device():\n",
    "    \"\"\"Pick GPU if available, else CPU\"\"\"\n",
    "    if torch.cuda.is_available():\n",
    "        return torch.device('cuda')\n",
    "    else:\n",
    "        return torch.device('cpu')\n",
    "\n",
    "def to_device(data, device):\n",
    "    \"\"\"Move tensor(s) to chosen device\"\"\"\n",
    "    if isinstance(data, (list,tuple)):\n",
    "        return [to_device(x, device) for x in data]\n",
    "    return data.to(device, non_blocking=True)\n",
    "\n",
    "class DeviceDataLoader():\n",
    "    \"\"\"Wrap a dataloader to move data to a device\"\"\"\n",
    "    def __init__(self, dl, device):\n",
    "        self.dl = dl\n",
    "        self.device = device\n",
    "        \n",
    "    def __iter__(self):\n",
    "        \"\"\"Yield a batch of data after moving it to device\"\"\"\n",
    "        for b in self.dl: \n",
    "            yield to_device(b, self.device)\n",
    "\n",
    "    def __len__(self):\n",
    "        \"\"\"Number of batches\"\"\"\n",
    "        return len(self.dl)"
   ]
  },
  {
   "cell_type": "code",
   "execution_count": 162,
   "id": "b0f09630-e740-46a0-b23e-c8d268700913",
   "metadata": {},
   "outputs": [
    {
     "data": {
      "text/plain": [
       "<__main__.DeviceDataLoader at 0x1ea81554940>"
      ]
     },
     "execution_count": 162,
     "metadata": {},
     "output_type": "execute_result"
    }
   ],
   "source": [
    "# device = \"cuda\" if torch.cuda.is_available() else \"cpu\"\n",
    "device = get_default_device()\n",
    "\n",
    "QTDC = np.asarray(raw_data[1::-1])\n",
    "QTDC = np.transpose(QTDC, (1,0,2,3))\n",
    "QTDC[:, 1] = np.where(QTDC[:, 1] <= 0, 0, QTDC[:, 1]) # replaces TDC values of -1000 with 0\n",
    "# QTDC.shape\n",
    "\n",
    "batch_size = 128\n",
    "\n",
    "train_dl = DataLoader(QTDC, batch_size, shuffle=True, num_workers=3, pin_memory=True)\n",
    "train_dl = DeviceDataLoader(train_dl, device)\n",
    "train_dl"
   ]
  },
  {
   "cell_type": "markdown",
   "id": "ccbcb691-a38a-4a69-bf0b-40f97f6928ba",
   "metadata": {},
   "source": [
    "## Discriminator & Generator"
   ]
  },
  {
   "cell_type": "code",
   "execution_count": 163,
   "id": "28c81041-d33c-4b66-8433-35576d025674",
   "metadata": {},
   "outputs": [],
   "source": [
    "discriminator = nn.Sequential(\n",
    "    # in: 2 x 8 x 8\n",
    "\n",
    "    nn.Conv2d(2, 64, kernel_size=4, stride=2, padding=1, bias=False),\n",
    "    nn.BatchNorm2d(64),\n",
    "    nn.LeakyReLU(0.2, inplace=True),\n",
    "    # out: 64 x 4 x 4\n",
    "\n",
    "    nn.Conv2d(64, 128, kernel_size=4, stride=2, padding=1, bias=False),\n",
    "    nn.BatchNorm2d(128),\n",
    "    nn.LeakyReLU(0.2, inplace=True),\n",
    "    # out: 128 x 2 x 2\n",
    "\n",
    "    nn.Conv2d(128, 1, kernel_size=2, stride=1, padding=0, bias=False),\n",
    "    # out: 1 x 1 x 1\n",
    "\n",
    "\n",
    "    nn.Flatten(),\n",
    "    nn.Sigmoid())\n",
    "\n",
    "discriminator = to_device(discriminator, device)"
   ]
  },
  {
   "cell_type": "code",
   "execution_count": 164,
   "id": "37cde190-a09f-476c-995d-dd8c486ac667",
   "metadata": {},
   "outputs": [],
   "source": [
    "latent_size = 16\n",
    "\n",
    "generator = nn.Sequential(\n",
    "    # in: latent_size x 1 x 1\n",
    "\n",
    "    nn.ConvTranspose2d(latent_size, 128, kernel_size=2, stride=1, padding=0, bias=False),\n",
    "    nn.BatchNorm2d(128),\n",
    "    nn.ReLU(True),\n",
    "    # out: 128 x 2 x 2\n",
    "\n",
    "    nn.ConvTranspose2d(128, 64, kernel_size=4, stride=2, padding=1, bias=False),\n",
    "    nn.BatchNorm2d(64),\n",
    "    nn.ReLU(True),\n",
    "    # out: 64 x 4 x 4\n",
    "\n",
    "    nn.ConvTranspose2d(64, 2, kernel_size=4, stride=2, padding=1, bias=False),\n",
    "    nn.Tanh()\n",
    "    # out: 2 x 8 x 8\n",
    ")"
   ]
  },
  {
   "cell_type": "code",
   "execution_count": 165,
   "id": "233e2e28-c3ed-42e8-9e6d-465bee651704",
   "metadata": {},
   "outputs": [],
   "source": [
    "xb = torch.randn(batch_size, latent_size, 1, 1) \n",
    "test = generator(xb)"
   ]
  },
  {
   "cell_type": "code",
   "execution_count": 171,
   "id": "6f0de309-a206-4e4a-a1bf-c2c7634a3d32",
   "metadata": {},
   "outputs": [
    {
     "data": {
      "text/plain": [
       "<matplotlib.image.AxesImage at 0x1ed7e853e20>"
      ]
     },
     "execution_count": 171,
     "metadata": {},
     "output_type": "execute_result"
    },
    {
     "data": {
      "image/png": "[encoded data removed]",
      "text/plain": [
       "<Figure size 432x288 with 1 Axes>"
      ]
     },
     "metadata": {
      "needs_background": "light"
     },
     "output_type": "display_data"
    }
   ],
   "source": [
    "plt.imshow(test[3, 1].detach().numpy())"
   ]
  }
 ],
 "metadata": {
  "kernelspec": {
   "display_name": "Python 3 (ipykernel)",
   "language": "python",
   "name": "python3"
  },
  "language_info": {
   "codemirror_mode": {
    "name": "ipython",
    "version": 3
   },
   "file_extension": ".py",
   "mimetype": "text/x-python",
   "name": "python",
   "nbconvert_exporter": "python",
   "pygments_lexer": "ipython3",
   "version": "3.10.4"
  }
 },
 "nbformat": 4,
 "nbformat_minor": 5
}
